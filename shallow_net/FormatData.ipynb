{
 "cells": [
  {
   "cell_type": "code",
   "execution_count": null,
   "metadata": {
    "collapsed": false
   },
   "outputs": [],
   "source": [
    "import numpy as np\n",
    "from PIL import Image\n",
    "import matplotlib.pyplot as plt\n",
    "import os\n",
    "from math import floor\n",
    "%matplotlib inline"
   ]
  },
  {
   "cell_type": "code",
   "execution_count": null,
   "metadata": {
    "collapsed": true
   },
   "outputs": [],
   "source": [
    "path = './training_images/'\n",
    "labels = ['AN','HA','SA','NE','FE','DI','SU']"
   ]
  },
  {
   "cell_type": "code",
   "execution_count": null,
   "metadata": {
    "collapsed": false
   },
   "outputs": [],
   "source": [
    "files = os.listdir(path).copy()\n",
    "images = []\n",
    "labels = []\n",
    "\n",
    "size = 64, 64\n",
    "for file in files:\n",
    "    pic = Image.open(path+file)\n",
    "    pic = pic.resize(size)\n",
    "    arr = np.array(pic,dtype='f')\n",
    "    cur_label = None\n",
    "    start_lb = file.find(\".\")\n",
    "    end_lb = file.find(\".\", start_lb+1)\n",
    "    images.append(pic)\n",
    "    labels.append(file[start_lb:end_lb])\n",
    "    total = total + 1"
   ]
  },
  {
   "cell_type": "code",
   "execution_count": null,
   "metadata": {
    "collapsed": true
   },
   "outputs": [],
   "source": [
    "random_perm  = np.random.permutation(total)\n",
    "valid_size = floor(total*0.2)"
   ]
  },
  {
   "cell_type": "code",
   "execution_count": null,
   "metadata": {
    "collapsed": false
   },
   "outputs": [],
   "source": [
    "SAVE_FILE_NAME = './emotion_data'\n",
    "np.savez_compressed(SAVE_FILE_NAME,\n",
    "                input_train = images[random_perm[:valid_size]],\n",
    "                labels_train = labels[random_perm[:valid_size]],\n",
    "                input_valid = images[random_perm[valid_size:]],\n",
    "                labels_valid = labels[random_perm[valid_size:]])"
   ]
  }
 ],
 "metadata": {
  "anaconda-cloud": {},
  "kernelspec": {
   "display_name": "Python [Root]",
   "language": "python",
   "name": "Python [Root]"
  },
  "language_info": {
   "codemirror_mode": {
    "name": "ipython",
    "version": 3
   },
   "file_extension": ".py",
   "mimetype": "text/x-python",
   "name": "python",
   "nbconvert_exporter": "python",
   "pygments_lexer": "ipython3",
   "version": "3.5.2"
  }
 },
 "nbformat": 4,
 "nbformat_minor": 0
}
