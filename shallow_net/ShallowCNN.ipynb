{
 "cells": [
  {
   "cell_type": "code",
   "execution_count": 1,
   "metadata": {
    "collapsed": false
   },
   "outputs": [],
   "source": [
    "import tensorflow as tf\n",
    "from sklearn.preprocessing import OneHotEncoder\n",
    "from sklearn.metrics import accuracy_score\n",
    "from sklearn.metrics import confusion_matrix\n",
    "from sklearn.preprocessing import scale\n",
    "import matplotlib.pyplot as plt\n",
    "from PIL import Image\n",
    "import numpy as np\n",
    "%matplotlib inline"
   ]
  },
  {
   "cell_type": "code",
   "execution_count": 2,
   "metadata": {
    "collapsed": false
   },
   "outputs": [],
   "source": [
    "emotions = np.load('./data/labeled_emotion.npz',encoding='latin1')\n",
    "images_train = emotions['input_train']\n",
    "labels_train = emotions['input_labels']\n",
    "images_valid = emotions['input_valid']\n",
    "labels_valid = emotions['input_labels_valid']\n",
    "labels = emotions['emotions']\n",
    "print('image_train shape' , images_train.shape)\n",
    "print('images_valid shape' , images_valid.shape)\n",
    "print(labels)"
   ]
  },
  {
   "cell_type": "code",
   "execution_count": 3,
   "metadata": {
    "collapsed": true
   },
   "outputs": [],
   "source": [
    "N = len(images_train)\n",
    "BS = 200\n",
    "minibatchs = int(np.ceil(N/BS))\n",
    "iterations = 50\n",
    "imshape = 64*64*3\n",
    "outputShape = 7"
   ]
  },
  {
   "cell_type": "code",
   "execution_count": 4,
   "metadata": {
    "collapsed": false
   },
   "outputs": [],
   "source": [
    "images_train = scale(np.asarray(images_train).reshape(-1,imshape).astype('float64'),axis=1)\n",
    "images_valid = scale(np.asarray(images_valid).reshape(-1,imshape).astype('float64'),axis=1)\n",
    "\n",
    "#one-hot encoding\n",
    "labels_train = OneHotEncoder(sparse=False).fit_transform(labels_train.reshape(-1,1))\n",
    "\n",
    "#one-hot encoding\n",
    "labels_valid = OneHotEncoder(sparse=False).fit_transform(labels_valid.reshape(-1,1))\n",
    "\n",
    "def weight_variable(shape):\n",
    "    initial = tf.truncated_normal(shape, stddev=0.1)\n",
    "    return tf.Variable(initial)\n",
    "\n",
    "def bias_variable(shape):\n",
    "    initial = tf.constant(0.1, shape=shape)\n",
    "    return tf.Variable(initial)\n",
    "\n",
    "def conv2d(x, W):\n",
    "    return tf.nn.conv2d(x, W, strides=[1, 1, 1, 1], padding='SAME')\n",
    "\n",
    "def max_pool_2x2(x):\n",
    "    return tf.nn.max_pool(x, ksize=[1, 2, 2, 1],\n",
    "                        strides=[1, 2, 2, 1], padding='SAME')"
   ]
  },
  {
   "cell_type": "code",
   "execution_count": 5,
   "metadata": {
    "collapsed": false
   },
   "outputs": [],
   "source": [
    "x = tf.placeholder(tf.float32, shape=[None, imshape])\n",
    "y_ = tf.placeholder(tf.float32, shape=[None, outputShape])\n",
    "\n",
    "#First Convolutional Layer\n",
    "W_conv1 = weight_variable([5, 5, 3, 32])\n",
    "b_conv1 = bias_variable([32])\n",
    "\n",
    "x_image = tf.reshape(x, [-1,64,64,3])\n",
    "h_conv1 = tf.nn.relu(conv2d(x_image, W_conv1) + b_conv1)\n",
    "h_pool1 = max_pool_2x2(h_conv1)\n",
    "\n",
    "#Second Convolutional Layer\n",
    "W_conv2 = weight_variable([5, 5, 32, 64])\n",
    "b_conv2 = bias_variable([64])\n",
    "\n",
    "h_conv2 = tf.nn.relu(conv2d(h_pool1, W_conv2) + b_conv2)\n",
    "h_pool2 = max_pool_2x2(h_conv2)\n",
    "\n",
    "#Densely Connected Layer\n",
    "W_fc1 = weight_variable([16 * 16 * 64, 1024])\n",
    "b_fc1 = bias_variable([1024])\n",
    "\n",
    "h_pool2_flat = tf.reshape(h_pool2, [-1, 16*16*64])\n",
    "h_fc1 = tf.nn.relu(tf.matmul(h_pool2_flat, W_fc1) + b_fc1)\n",
    "\n",
    "#drop_out\n",
    "keep_prob = tf.placeholder(tf.float32)\n",
    "h_fc1_drop = tf.nn.dropout(h_fc1, keep_prob)\n",
    "\n",
    "#readout_layer\n",
    "W_fc2 = weight_variable([1024, 7])\n",
    "b_fc2 = bias_variable([7])\n",
    "\n",
    "y_conv = tf.matmul(h_fc1_drop, W_fc2) + b_fc2\n",
    "\n",
    "cross_entropy = tf.reduce_mean(tf.nn.softmax_cross_entropy_with_logits(y_conv, y_))\n",
    "train_step = tf.train.AdamOptimizer(1e-4).minimize(cross_entropy)\n",
    "correct_prediction = tf.equal(tf.argmax(y_conv,1), tf.argmax(y_,1))\n",
    "accuracy = tf.reduce_mean(tf.cast(correct_prediction, tf.float32))\n",
    "saver = tf.train.Saver()\n",
    "sess = tf.InteractiveSession()\n",
    "sess.run(tf.initialize_all_variables())"
   ]
  },
  {
   "cell_type": "code",
   "execution_count": 6,
   "metadata": {
    "collapsed": false,
    "scrolled": false
   },
   "outputs": [
    {
     "name": "stdout",
     "output_type": "stream",
     "text": [
      "step 0, training accuracy 0.137796\n",
      "test accuracy 0.137457\n",
      "step 10, training accuracy 0.617884\n",
      "test accuracy 0.590574\n",
      "step 20, training accuracy 0.913633\n",
      "test accuracy 0.861561\n",
      "step 30, training accuracy 0.979721\n",
      "test accuracy 0.918999\n",
      "step 40, training accuracy 0.997923\n",
      "test accuracy 0.936181\n"
     ]
    }
   ],
   "source": [
    "for epoch in range(iterations):\n",
    "    #scramble the indexes:\n",
    "    ix = np.random.permutation(N)\n",
    "    input_train = images_train[ix,:]\n",
    "    input_label = labels_train[ix]\n",
    "    for i in range(minibatchs):\n",
    "        x_batch = images_train[i*BS:min(N, BS*(i+1))]\n",
    "        y_batch = labels_train[i*BS:min(N, BS*(i+1))]\n",
    "        train_step.run(feed_dict={x: x_batch, y_: y_batch, keep_prob: 0.5})\n",
    "    if epoch%10 == 0:\n",
    "        train_accuracy = accuracy.eval(feed_dict={x:images_train, y_: labels_train, keep_prob: 1.0})\n",
    "        print(\"step %d, training accuracy %g\"%(epoch, train_accuracy))\n",
    "        print(\"test accuracy %g\"%accuracy.eval(feed_dict={x: images_valid, y_: labels_valid, keep_prob: 1.0}))"
   ]
  },
  {
   "cell_type": "code",
   "execution_count": 8,
   "metadata": {
    "collapsed": false
   },
   "outputs": [
    {
     "name": "stdout",
     "output_type": "stream",
     "text": [
      "step 49, training accuracy 1\n",
      "test accuracy 0.940599\n"
     ]
    }
   ],
   "source": [
    "train_accuracy = accuracy.eval(feed_dict={x:images_train, y_: labels_train, keep_prob: 1.0})\n",
    "print(\"step %d, training accuracy %g\"%(epoch, train_accuracy))\n",
    "print(\"test accuracy %g\"%accuracy.eval(feed_dict={x: images_valid, y_: labels_valid, keep_prob: 1.0}))"
   ]
  },
  {
   "cell_type": "code",
   "execution_count": 9,
   "metadata": {
    "collapsed": false
   },
   "outputs": [
    {
     "data": {
      "text/plain": [
       "'emotion_iter_49'"
      ]
     },
     "execution_count": 9,
     "metadata": {},
     "output_type": "execute_result"
    }
   ],
   "source": [
    "saver.save(sess, 'emotion_iter_'+str(epoch))"
   ]
  },
  {
   "cell_type": "code",
   "execution_count": 26,
   "metadata": {
    "collapsed": false
   },
   "outputs": [
    {
     "data": {
      "text/plain": [
       "array([[273,   4,   3,   2,   7,   7,   0],\n",
       "       [  1, 264,   2,   5,   2,   1,   1],\n",
       "       [  0,   1, 286,   7,   1,   9,   0],\n",
       "       [  0,   1,   5, 393,   4,   1,   2],\n",
       "       [  1,   0,   3,   5, 213,   2,   8],\n",
       "       [  3,   2,   8,   1,   4, 225,   0],\n",
       "       [  0,   3,   1,   4,  10,   0, 262]])"
      ]
     },
     "execution_count": 26,
     "metadata": {},
     "output_type": "execute_result"
    }
   ],
   "source": [
    "p_valid = sess.run(y_conv, feed_dict={x: images_valid, keep_prob: 1.0})\n",
    "label = np.array([0,1,2,3,4,5,6])\n",
    "result = labels[p_valid.argmax(axis=1)]\n",
    "confusion_matrix(emotions['input_labels_valid'],p_valid.argmax(axis=1))"
   ]
  },
  {
   "cell_type": "code",
   "execution_count": 45,
   "metadata": {
    "collapsed": false
   },
   "outputs": [
    {
     "name": "stdout",
     "output_type": "stream",
     "text": [
      "3\tcorrect label angry\tpredicted label neutral\n",
      "21\tcorrect label angry\tpredicted label happy\n",
      "326\tcorrect label happy\tpredicted label sad\n",
      "353\tcorrect label happy\tpredicted label neutral\n",
      "572\tcorrect label sad\tpredicted label happy\n",
      "668\tcorrect label sad\tpredicted label neutral\n",
      "985\tcorrect label neutral\tpredicted label disgust\n",
      "990\tcorrect label neutral\tpredicted label sad\n",
      "1290\tcorrect label fear\tpredicted label sad\n",
      "1310\tcorrect label fear\tpredicted label neutral\n",
      "1518\tcorrect label disgust\tpredicted label angry\n",
      "1521\tcorrect label disgust\tpredicted label happy\n",
      "1786\tcorrect label surprise\tpredicted label fear\n",
      "1789\tcorrect label surprise\tpredicted label fear\n"
     ]
    },
    {
     "name": "stderr",
     "output_type": "stream",
     "text": [
      "/opt/anaconda3/lib/python3.5/site-packages/ipykernel/__main__.py:10: VisibleDeprecationWarning: using a non-integer number instead of an integer will result in an error in the future\n"
     ]
    }
   ],
   "source": [
    "num_pic = 14\n",
    "cur = 0\n",
    "count = 0\n",
    "cur_label = 0\n",
    "correct = emotions['input_labels_valid']\n",
    "cur_lab = p_valid.argmax(axis=1)\n",
    "lst_of_wrong = []\n",
    "while num_pic > 0:\n",
    "    if correct[cur] >= cur_label and correct[cur]!= cur_lab[cur]:\n",
    "        print(str(cur) + '\\tcorrect label '+ labels[correct[cur]] + '\\tpredicted label ' + labels[int(cur_lab[cur])])\n",
    "        lst_of_wrong.append(cur)\n",
    "        count = count + 1\n",
    "        num_pic = num_pic - 1\n",
    "        if count == 2:\n",
    "            count = 0\n",
    "            cur_label = cur_label + 1\n",
    "    cur = cur + 1"
   ]
  },
  {
   "cell_type": "code",
   "execution_count": null,
   "metadata": {
    "collapsed": true
   },
   "outputs": [],
   "source": [
    "def format_image(image):\n",
    "    size = 64, 64\n",
    "    pic = Image.fromarray(image.astype('uint8'), 'RGB')\n",
    "    pic = pic.resize(size)\n",
    "    arr = np.array(pic,dtype='f')\n",
    "    arr = scale(arr.reshape(-1,64*64*3).astype('float64'),axis=1)\n",
    "    return arr"
   ]
  },
  {
   "cell_type": "code",
   "execution_count": 46,
   "metadata": {
    "collapsed": true
   },
   "outputs": [],
   "source": [
    "valid = emotions['input_valid']"
   ]
  },
  {
   "cell_type": "code",
   "execution_count": 64,
   "metadata": {
    "collapsed": false
   },
   "outputs": [],
   "source": [
    "im=Image.fromarray(valid[1789].astype('uint8'), 'RGB')\n",
    "plt.imshow(im)"
   ]
  },
  {
   "cell_type": "code",
   "execution_count": 66,
   "metadata": {
    "collapsed": false
   },
   "outputs": [
    {
     "name": "stdout",
     "output_type": "stream",
     "text": [
      "0\tcorrect label angry\tpredicted label angry\n",
      "296\tcorrect label happy\tpredicted label happy\n",
      "573\tcorrect label sad\tpredicted label sad\n",
      "876\tcorrect label neutral\tpredicted label neutral\n",
      "1282\tcorrect label fear\tpredicted label fear\n",
      "1514\tcorrect label disgust\tpredicted label disgust\n",
      "1757\tcorrect label surprise\tpredicted label surprise\n"
     ]
    },
    {
     "name": "stderr",
     "output_type": "stream",
     "text": [
      "/opt/anaconda3/lib/python3.5/site-packages/ipykernel/__main__.py:10: VisibleDeprecationWarning: using a non-integer number instead of an integer will result in an error in the future\n"
     ]
    }
   ],
   "source": [
    "num_pic = 7\n",
    "cur = 0\n",
    "count = 0\n",
    "cur_label = 0\n",
    "correct = emotions['input_labels_valid']\n",
    "cur_lab = p_valid.argmax(axis=1)\n",
    "lst_of_wrong = []\n",
    "while num_pic > 0:\n",
    "    if correct[cur] >= cur_label and correct[cur] == cur_lab[cur]:\n",
    "        print(str(cur) + '\\tcorrect label '+ labels[correct[cur]] + '\\tpredicted label ' + labels[int(cur_lab[cur])])\n",
    "        lst_of_wrong.append(cur)\n",
    "        count = count + 1\n",
    "        num_pic = num_pic - 1\n",
    "        if count == 1:\n",
    "            count = 0\n",
    "            cur_label = cur_label + 1\n",
    "    cur = cur + 1"
   ]
  },
  {
   "cell_type": "code",
   "execution_count": 74,
   "metadata": {
    "collapsed": false
   },
   "outputs": [],
   "source": [
    "im=Image.fromarray(valid[1757].astype('uint8'), 'RGB')\n",
    "plt.imshow(im)"
   ]
  }
 ],
 "metadata": {
  "anaconda-cloud": {},
  "kernelspec": {
   "display_name": "Python [Root]",
   "language": "python",
   "name": "Python [Root]"
  },
  "language_info": {
   "codemirror_mode": {
    "name": "ipython",
    "version": 3
   },
   "file_extension": ".py",
   "mimetype": "text/x-python",
   "name": "python",
   "nbconvert_exporter": "python",
   "pygments_lexer": "ipython3",
   "version": "3.5.2"
  }
 },
 "nbformat": 4,
 "nbformat_minor": 0
}
